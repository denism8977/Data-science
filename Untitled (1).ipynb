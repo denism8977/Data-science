{
 "cells": [
  {
   "cell_type": "code",
   "execution_count": 1,
   "id": "eeba4570-4ed6-4494-b81e-5d5c4e011af8",
   "metadata": {},
   "outputs": [
    {
     "name": "stdout",
     "output_type": "stream",
     "text": [
      "denis\n"
     ]
    }
   ],
   "source": [
    "print(\"denis\")"
   ]
  },
  {
   "cell_type": "code",
   "execution_count": 7,
   "id": "f8adac4b-e27f-4d7f-84a6-1cd19a563eee",
   "metadata": {},
   "outputs": [
    {
     "name": "stdout",
     "output_type": "stream",
     "text": [
      "my first data science lesson\n"
     ]
    }
   ],
   "source": [
    "print(\"my first data science lesson\")"
   ]
  },
  {
   "cell_type": "code",
   "execution_count": 5,
   "id": "62c11036-9c24-4350-8a25-c642de320201",
   "metadata": {},
   "outputs": [
    {
     "data": {
      "text/plain": [
       "-45"
      ]
     },
     "execution_count": 5,
     "metadata": {},
     "output_type": "execute_result"
    }
   ],
   "source": [
    "35-80"
   ]
  }
 ],
 "metadata": {
  "kernelspec": {
   "display_name": "Python [conda env:base] *",
   "language": "python",
   "name": "conda-base-py"
  },
  "language_info": {
   "codemirror_mode": {
    "name": "ipython",
    "version": 3
   },
   "file_extension": ".py",
   "mimetype": "text/x-python",
   "name": "python",
   "nbconvert_exporter": "python",
   "pygments_lexer": "ipython3",
   "version": "3.12.7"
  }
 },
 "nbformat": 4,
 "nbformat_minor": 5
}
